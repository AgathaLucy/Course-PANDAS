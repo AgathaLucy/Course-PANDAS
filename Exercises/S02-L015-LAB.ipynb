{
 "cells": [
  {
   "cell_type": "code",
   "execution_count": 1,
   "metadata": {},
   "outputs": [],
   "source": [
    "import pandas as pd"
   ]
  },
  {
   "cell_type": "code",
   "execution_count": 4,
   "metadata": {},
   "outputs": [
    {
     "data": {
      "text/plain": "Rank\n1               Walmart\n2    Berkshire Hathaway\n3                 Apple\n4           Exxon Mobil\n5              McKesson\nName: Title, dtype: object"
     },
     "execution_count": 4,
     "metadata": {},
     "output_type": "execute_result"
    }
   ],
   "source": [
    "fortune500 = pd.read_csv(\"../CourseFile/../CourseFile/Fortune_500_2017.csv\", usecols=[\"Rank\", \"Title\"],index_col=\"Rank\",squeeze=True)\r\n",
    "fortune500.head()"
   ]
  },
  {
   "cell_type": "code",
   "execution_count": 5,
   "metadata": {},
   "outputs": [
    {
     "data": {
      "text/plain": "Rank\n1                Walmart\n2     Berkshire Hathaway\n3                  Apple\n4            Exxon Mobil\n5               McKesson\n6     UnitedHealth Group\n7             CVS Health\n8         General Motors\n9                   AT&T\n10            Ford Motor\nName: Title, dtype: object"
     },
     "execution_count": 5,
     "metadata": {},
     "output_type": "execute_result"
    }
   ],
   "source": [
    "fortune500.head(10)"
   ]
  },
  {
   "cell_type": "code",
   "execution_count": 6,
   "metadata": {},
   "outputs": [
    {
     "data": {
      "text/plain": "Rank\n481           Booz Allen Hamilton Holding\n482                              Chemours\n483    Western & Southern Financial Group\n484                              Celanese\n485                   Windstream Holdings\n486                              Seaboard\n487                             Essendant\n488                                Apache\n489                                Airgas\n490                        Kelly Services\n491                         Liberty Media\n492                      Rockwell Collins\n493             Robert Half International\n494                             CH2M Hill\n495                              Big Lots\n496                         Michaels Cos.\n497                         Toll Brothers\n498                                 Yahoo\n499                         Vistra Energy\n500                        ABM Industries\nName: Title, dtype: object"
     },
     "execution_count": 6,
     "metadata": {},
     "output_type": "execute_result"
    }
   ],
   "source": [
    "fortune500.tail(20)"
   ]
  },
  {
   "cell_type": "code",
   "execution_count": 7,
   "metadata": {},
   "outputs": [
    {
     "data": {
      "text/plain": "Title\nWalmart               2300000\nBerkshire Hathaway     367700\nApple                  116000\nExxon Mobil             72700\nMcKesson                68000\nName: Employees, dtype: int64"
     },
     "execution_count": 7,
     "metadata": {},
     "output_type": "execute_result"
    }
   ],
   "source": [
    "fortune500 = pd.read_csv(\"../CourseFile/../CourseFile/Fortune_500_2017.csv\", usecols=[\"Employees\", \"Title\"],index_col=\"Title\",squeeze=True)\r\n",
    "fortune500.head()"
   ]
  },
  {
   "cell_type": "code",
   "execution_count": 8,
   "metadata": {},
   "outputs": [
    {
     "data": {
      "text/plain": "Title\nIBM         414400\nAlphabet     72053\nFacebook     17048\nApple       116000\nName: Employees, dtype: int64"
     },
     "execution_count": 8,
     "metadata": {},
     "output_type": "execute_result"
    }
   ],
   "source": [
    "fortune500[['IBM', 'Alphabet', 'Facebook', 'Apple']]"
   ]
  },
  {
   "cell_type": "code",
   "execution_count": 9,
   "metadata": {},
   "outputs": [
    {
     "data": {
      "text/plain": "Title\nIBM                          414400\nState Farm Insurance Cos.     68234\nPhillips 66                   14800\nJohnson & Johnson            126400\nProcter & Gamble             105000\nValero Energy                  9996\nTarget                       323000\nFreddie Mac                    5982\nLowe’s                       240000\nDell Technologies            138000\nMetLife                       58000\nAetna                         49500\nPepsiCo                      264000\nArcher Daniels Midland        31800\nUPS                          335520\nIntel                        106000\nName: Employees, dtype: int64"
     },
     "execution_count": 9,
     "metadata": {},
     "output_type": "execute_result"
    }
   ],
   "source": [
    "fortune500['IBM':'Intel']"
   ]
  },
  {
   "cell_type": "code",
   "execution_count": null,
   "metadata": {},
   "outputs": [],
   "source": []
  }
 ],
 "metadata": {
  "kernelspec": {
   "display_name": "Python 3.8.8 64-bit ('base': conda)",
   "name": "python388jvsc74a57bd03ba49629e642786a2de516d48c7b5ebe6c63851376e27734b8be061cc796786d"
  },
  "language_info": {
   "codemirror_mode": {
    "name": "ipython",
    "version": 3
   },
   "file_extension": ".py",
   "mimetype": "text/x-python",
   "name": "python",
   "nbconvert_exporter": "python",
   "pygments_lexer": "ipython3",
   "version": "3.8.8"
  },
  "orig_nbformat": 2
 },
 "nbformat": 4,
 "nbformat_minor": 2
}