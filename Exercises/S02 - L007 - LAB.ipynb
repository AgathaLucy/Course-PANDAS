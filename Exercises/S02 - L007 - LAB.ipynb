{
 "cells": [
  {
   "cell_type": "code",
   "execution_count": 1,
   "id": "93e84509",
   "metadata": {},
   "outputs": [],
   "source": [
    "import numpy as np\n",
    "import math as math\n",
    "import pandas as pd\n",
    "import matplotlib.pyplot as plt"
   ]
  },
  {
   "cell_type": "code",
   "execution_count": 2,
   "id": "defd3ac9",
   "metadata": {},
   "outputs": [],
   "source": [
    "namesList = ['Albania','Austria','Belarus',\n",
    "             'Belgium','Bulgaria','Croatia','Cyprus','Czech Republic','Denmark','Estonia','Finland','France','Germany',\n",
    "             'Greece','Hungary','Iceland','Ireland','Italy', 'Latvia','Lithuania','Luxembourg','Macedonia','Malta',\n",
    "             'Montenegro','Netherlands', 'Norway','Poland','Portugal','Romania','Russia','Serbia','Slovenia','Spain',\n",
    "             'Sweden','Switzerland','United Kingdom','Turkey','Ukraine']"
   ]
  },
  {
   "cell_type": "code",
   "execution_count": 3,
   "id": "1ee03b3b",
   "metadata": {},
   "outputs": [],
   "source": [
    "enerfy2010List = [1947,8347,3564,8369,4560,3814,4623,6348,6328,6506,16483,7736,7264,5318,3876,51440,\n",
    "                  5911,5494,3230,3471,16830,3521,4171,5420,7010,24891,3797,4959,2551,6410,4359,6521,\n",
    "                  5707,14934,8175,2498,3550,5701]"
   ]
  },
  {
   "cell_type": "code",
   "execution_count": 4,
   "id": "a02d5785",
   "metadata": {},
   "outputs": [],
   "source": [
    "enerfy2012List = [2118,8507,3698,7987,4762,3819,4057,6305,6039,6689,15687,7344,7270,5511,3919,53203,\n",
    "                  5665,5398,3588,3608,14696,3626,4761,5416,6871,23658,3899,4736,2604,6617,4387,6778,\n",
    "                  5573,14290,7886,2794,3641,5452]"
   ]
  },
  {
   "cell_type": "code",
   "execution_count": 5,
   "id": "8edac869",
   "metadata": {},
   "outputs": [],
   "source": [
    "namesSeries = pd.Series(namesList)\n",
    "energy2010Series = pd.Series(enerfy2010List)\n",
    "energy2012Series = pd.Series(enerfy2012List)"
   ]
  },
  {
   "cell_type": "code",
   "execution_count": 11,
   "id": "87b59f16",
   "metadata": {},
   "outputs": [
    {
     "data": {
      "text/plain": [
       "7779.8421052631575"
      ]
     },
     "execution_count": 11,
     "metadata": {},
     "output_type": "execute_result"
    }
   ],
   "source": [
    "mean2010 = energy2010Series.mean()\n",
    "mean2010"
   ]
  },
  {
   "cell_type": "code",
   "execution_count": 12,
   "id": "83ded45e",
   "metadata": {},
   "outputs": [
    {
     "data": {
      "text/plain": [
       "7706.815789473684"
      ]
     },
     "execution_count": 12,
     "metadata": {},
     "output_type": "execute_result"
    }
   ],
   "source": [
    "mean2012 = energy2012Series.mean()\n",
    "mean2012"
   ]
  },
  {
   "cell_type": "code",
   "execution_count": 13,
   "id": "b3c304fc",
   "metadata": {},
   "outputs": [],
   "source": [
    "filterAboveMean2010 = energy2010Series > mean2010"
   ]
  },
  {
   "cell_type": "code",
   "execution_count": 14,
   "id": "eb1c5cbe",
   "metadata": {},
   "outputs": [],
   "source": [
    "filterAboveMean2012 = energy2012Series > mean2012"
   ]
  },
  {
   "cell_type": "code",
   "execution_count": 18,
   "id": "94215aaf",
   "metadata": {},
   "outputs": [
    {
     "data": {
      "text/plain": [
       "1         Austria\n",
       "3         Belgium\n",
       "10        Finland\n",
       "15        Iceland\n",
       "20     Luxembourg\n",
       "25         Norway\n",
       "33         Sweden\n",
       "34    Switzerland\n",
       "dtype: object"
      ]
     },
     "execution_count": 18,
     "metadata": {},
     "output_type": "execute_result"
    }
   ],
   "source": [
    "namesSeries.where(filterAboveMean2010 & filterAboveMean2012).dropna()"
   ]
  },
  {
   "cell_type": "code",
   "execution_count": 16,
   "id": "7998eb46",
   "metadata": {},
   "outputs": [],
   "source": [
    "filterBelowMean2010 = energy2010Series < mean2010"
   ]
  },
  {
   "cell_type": "code",
   "execution_count": 19,
   "id": "e56d12bd",
   "metadata": {},
   "outputs": [
    {
     "data": {
      "text/plain": [
       "Series([], dtype: object)"
      ]
     },
     "execution_count": 19,
     "metadata": {},
     "output_type": "execute_result"
    }
   ],
   "source": [
    "namesSeries.where(filterBelowMean2010 & filterAboveMean2012).dropna()"
   ]
  },
  {
   "cell_type": "code",
   "execution_count": null,
   "id": "f10fe8e3",
   "metadata": {},
   "outputs": [],
   "source": []
  }
 ],
 "metadata": {
  "kernelspec": {
   "display_name": "Python 3",
   "language": "python",
   "name": "python3"
  },
  "language_info": {
   "codemirror_mode": {
    "name": "ipython",
    "version": 3
   },
   "file_extension": ".py",
   "mimetype": "text/x-python",
   "name": "python",
   "nbconvert_exporter": "python",
   "pygments_lexer": "ipython3",
   "version": "3.8.8"
  }
 },
 "nbformat": 4,
 "nbformat_minor": 5
}
