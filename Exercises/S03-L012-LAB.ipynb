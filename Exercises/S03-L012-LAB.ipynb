{
 "cells": [
  {
   "cell_type": "code",
   "execution_count": 1,
   "metadata": {},
   "outputs": [],
   "source": [
    "import pandas as pd\r\n",
    "import numpy as np"
   ]
  },
  {
   "cell_type": "code",
   "execution_count": 2,
   "metadata": {},
   "outputs": [
    {
     "data": {
      "text/html": "<div>\n<style scoped>\n    .dataframe tbody tr th:only-of-type {\n        vertical-align: middle;\n    }\n\n    .dataframe tbody tr th {\n        vertical-align: top;\n    }\n\n    .dataframe thead th {\n        text-align: right;\n    }\n</style>\n<table border=\"1\" class=\"dataframe\">\n  <thead>\n    <tr style=\"text-align: right;\">\n      <th></th>\n      <th>Vehicle ID</th>\n      <th>Year</th>\n      <th>Make</th>\n      <th>Model</th>\n      <th>Class</th>\n      <th>Fuel Type</th>\n      <th>Combined MPG (FT1)</th>\n      <th>Start Stop Technology</th>\n    </tr>\n  </thead>\n  <tbody>\n    <tr>\n      <th>0</th>\n      <td>26587</td>\n      <td>1984</td>\n      <td>Alfa Romeo</td>\n      <td>GT V6 2.5</td>\n      <td>Minicompact Cars</td>\n      <td>Regular</td>\n      <td>20.0</td>\n      <td>NaN</td>\n    </tr>\n    <tr>\n      <th>1</th>\n      <td>27705</td>\n      <td>1984</td>\n      <td>Alfa Romeo</td>\n      <td>GT V6 2.5</td>\n      <td>Minicompact Cars</td>\n      <td>Regular</td>\n      <td>20.0</td>\n      <td>NaN</td>\n    </tr>\n    <tr>\n      <th>2</th>\n      <td>26561</td>\n      <td>1984</td>\n      <td>Alfa Romeo</td>\n      <td>Spider Veloce 2000</td>\n      <td>Two Seaters</td>\n      <td>Regular</td>\n      <td>21.0</td>\n      <td>NaN</td>\n    </tr>\n    <tr>\n      <th>3</th>\n      <td>27681</td>\n      <td>1984</td>\n      <td>Alfa Romeo</td>\n      <td>Spider Veloce 2000</td>\n      <td>Two Seaters</td>\n      <td>Regular</td>\n      <td>21.0</td>\n      <td>NaN</td>\n    </tr>\n    <tr>\n      <th>4</th>\n      <td>27550</td>\n      <td>1984</td>\n      <td>AM General</td>\n      <td>DJ Po Vehicle 2WD</td>\n      <td>Special Purpose Vehicle 2WD</td>\n      <td>Regular</td>\n      <td>17.0</td>\n      <td>NaN</td>\n    </tr>\n  </tbody>\n</table>\n</div>",
      "text/plain": "   Vehicle ID  Year        Make               Model  \\\n0       26587  1984  Alfa Romeo           GT V6 2.5   \n1       27705  1984  Alfa Romeo           GT V6 2.5   \n2       26561  1984  Alfa Romeo  Spider Veloce 2000   \n3       27681  1984  Alfa Romeo  Spider Veloce 2000   \n4       27550  1984  AM General   DJ Po Vehicle 2WD   \n\n                         Class Fuel Type  Combined MPG (FT1)  \\\n0             Minicompact Cars   Regular                20.0   \n1             Minicompact Cars   Regular                20.0   \n2                  Two Seaters   Regular                21.0   \n3                  Two Seaters   Regular                21.0   \n4  Special Purpose Vehicle 2WD   Regular                17.0   \n\n  Start Stop Technology  \n0                   NaN  \n1                   NaN  \n2                   NaN  \n3                   NaN  \n4                   NaN  "
     },
     "execution_count": 2,
     "metadata": {},
     "output_type": "execute_result"
    }
   ],
   "source": [
    "fuel = pd.read_csv(\"../CourseFile/fuel.csv\",low_memory=False, usecols=['Vehicle ID','Year','Make','Model','Class',\r\n",
    "'Fuel Type','Combined MPG (FT1)','Start Stop Technology'])\r\n",
    "fuel.head()"
   ]
  },
  {
   "cell_type": "code",
   "execution_count": 5,
   "metadata": {},
   "outputs": [],
   "source": [
    "listOfCars = ['Renault', 'Toyota','Ford']"
   ]
  },
  {
   "cell_type": "code",
   "execution_count": 6,
   "metadata": {},
   "outputs": [
    {
     "data": {
      "text/plain": "0    False\n1    False\n2    False\n3    False\n4    False\nName: Make, dtype: bool"
     },
     "execution_count": 6,
     "metadata": {},
     "output_type": "execute_result"
    }
   ],
   "source": [
    "isInList = fuel['Make'].isin(listOfCars)\r\n",
    "isInList.head()"
   ]
  },
  {
   "cell_type": "code",
   "execution_count": 7,
   "metadata": {},
   "outputs": [
    {
     "data": {
      "text/html": "<div>\n<style scoped>\n    .dataframe tbody tr th:only-of-type {\n        vertical-align: middle;\n    }\n\n    .dataframe tbody tr th {\n        vertical-align: top;\n    }\n\n    .dataframe thead th {\n        text-align: right;\n    }\n</style>\n<table border=\"1\" class=\"dataframe\">\n  <thead>\n    <tr style=\"text-align: right;\">\n      <th></th>\n      <th>Vehicle ID</th>\n      <th>Year</th>\n      <th>Make</th>\n      <th>Model</th>\n      <th>Class</th>\n      <th>Fuel Type</th>\n      <th>Combined MPG (FT1)</th>\n      <th>Start Stop Technology</th>\n    </tr>\n  </thead>\n  <tbody>\n    <tr>\n      <th>668</th>\n      <td>27613</td>\n      <td>1984</td>\n      <td>Ford</td>\n      <td>Bronco 4WD</td>\n      <td>Special Purpose Vehicle 4WD</td>\n      <td>Regular</td>\n      <td>13.0</td>\n      <td>NaN</td>\n    </tr>\n    <tr>\n      <th>669</th>\n      <td>27616</td>\n      <td>1984</td>\n      <td>Ford</td>\n      <td>Bronco 4WD</td>\n      <td>Special Purpose Vehicle 4WD</td>\n      <td>Regular</td>\n      <td>11.0</td>\n      <td>NaN</td>\n    </tr>\n    <tr>\n      <th>670</th>\n      <td>27619</td>\n      <td>1984</td>\n      <td>Ford</td>\n      <td>Bronco 4WD</td>\n      <td>Special Purpose Vehicle 4WD</td>\n      <td>Regular</td>\n      <td>10.0</td>\n      <td>NaN</td>\n    </tr>\n    <tr>\n      <th>671</th>\n      <td>27622</td>\n      <td>1984</td>\n      <td>Ford</td>\n      <td>Bronco 4WD</td>\n      <td>Special Purpose Vehicle 4WD</td>\n      <td>Regular</td>\n      <td>11.0</td>\n      <td>NaN</td>\n    </tr>\n    <tr>\n      <th>672</th>\n      <td>28472</td>\n      <td>1984</td>\n      <td>Ford</td>\n      <td>Bronco 4WD</td>\n      <td>Special Purpose Vehicle 4WD</td>\n      <td>Regular</td>\n      <td>13.0</td>\n      <td>NaN</td>\n    </tr>\n  </tbody>\n</table>\n</div>",
      "text/plain": "     Vehicle ID  Year  Make       Model                        Class  \\\n668       27613  1984  Ford  Bronco 4WD  Special Purpose Vehicle 4WD   \n669       27616  1984  Ford  Bronco 4WD  Special Purpose Vehicle 4WD   \n670       27619  1984  Ford  Bronco 4WD  Special Purpose Vehicle 4WD   \n671       27622  1984  Ford  Bronco 4WD  Special Purpose Vehicle 4WD   \n672       28472  1984  Ford  Bronco 4WD  Special Purpose Vehicle 4WD   \n\n    Fuel Type  Combined MPG (FT1) Start Stop Technology  \n668   Regular                13.0                   NaN  \n669   Regular                11.0                   NaN  \n670   Regular                10.0                   NaN  \n671   Regular                11.0                   NaN  \n672   Regular                13.0                   NaN  "
     },
     "execution_count": 7,
     "metadata": {},
     "output_type": "execute_result"
    }
   ],
   "source": [
    "fuel[isInList].head()"
   ]
  },
  {
   "cell_type": "code",
   "execution_count": 9,
   "metadata": {},
   "outputs": [
    {
     "data": {
      "text/plain": "0    True\n1    True\n2    True\n3    True\n4    True\nName: Start Stop Technology, dtype: bool"
     },
     "execution_count": 9,
     "metadata": {},
     "output_type": "execute_result"
    }
   ],
   "source": [
    "isNoStartStopDefined = fuel['Start Stop Technology'].isnull()\r\n",
    "isNoStartStopDefined.head()"
   ]
  },
  {
   "cell_type": "code",
   "execution_count": 10,
   "metadata": {},
   "outputs": [
    {
     "data": {
      "text/plain": "0    False\n1    False\n2    False\n3    False\n4    False\nName: Start Stop Technology, dtype: bool"
     },
     "execution_count": 10,
     "metadata": {},
     "output_type": "execute_result"
    }
   ],
   "source": [
    "isStartStopDefined = fuel['Start Stop Technology'].notnull()\r\n",
    "isStartStopDefined.head()"
   ]
  },
  {
   "cell_type": "code",
   "execution_count": 16,
   "metadata": {},
   "outputs": [
    {
     "data": {
      "text/html": "<div>\n<style scoped>\n    .dataframe tbody tr th:only-of-type {\n        vertical-align: middle;\n    }\n\n    .dataframe tbody tr th {\n        vertical-align: top;\n    }\n\n    .dataframe thead th {\n        text-align: right;\n    }\n</style>\n<table border=\"1\" class=\"dataframe\">\n  <thead>\n    <tr style=\"text-align: right;\">\n      <th></th>\n      <th>Vehicle ID</th>\n      <th>Year</th>\n      <th>Make</th>\n      <th>Model</th>\n      <th>Class</th>\n      <th>Fuel Type</th>\n      <th>Combined MPG (FT1)</th>\n      <th>Start Stop Technology</th>\n    </tr>\n  </thead>\n  <tbody>\n    <tr>\n      <th>16448</th>\n      <td>30976</td>\n      <td>1998</td>\n      <td>Chevrolet</td>\n      <td>S10 Electric</td>\n      <td>Small Pickup Trucks 2WD</td>\n      <td>Electricity</td>\n      <td>55.0</td>\n      <td>N</td>\n    </tr>\n    <tr>\n      <th>16449</th>\n      <td>30977</td>\n      <td>1998</td>\n      <td>Chevrolet</td>\n      <td>S10 Electric</td>\n      <td>Small Pickup Trucks 2WD</td>\n      <td>Electricity</td>\n      <td>28.0</td>\n      <td>N</td>\n    </tr>\n    <tr>\n      <th>16711</th>\n      <td>30975</td>\n      <td>1998</td>\n      <td>Honda</td>\n      <td>EV Plus</td>\n      <td>Compact Cars</td>\n      <td>Electricity</td>\n      <td>48.0</td>\n      <td>N</td>\n    </tr>\n    <tr>\n      <th>17323</th>\n      <td>30973</td>\n      <td>1999</td>\n      <td>Dodge</td>\n      <td>Caravan/Grand Caravan 2WD</td>\n      <td>Minivan - 2WD</td>\n      <td>Electricity</td>\n      <td>35.0</td>\n      <td>N</td>\n    </tr>\n    <tr>\n      <th>17433</th>\n      <td>30971</td>\n      <td>1999</td>\n      <td>Ford</td>\n      <td>Ranger Pickup 2WD</td>\n      <td>Standard Pickup Trucks 2WD</td>\n      <td>Electricity</td>\n      <td>58.0</td>\n      <td>N</td>\n    </tr>\n  </tbody>\n</table>\n</div>",
      "text/plain": "       Vehicle ID  Year       Make                      Model  \\\n16448       30976  1998  Chevrolet               S10 Electric   \n16449       30977  1998  Chevrolet               S10 Electric   \n16711       30975  1998      Honda                    EV Plus   \n17323       30973  1999      Dodge  Caravan/Grand Caravan 2WD   \n17433       30971  1999       Ford          Ranger Pickup 2WD   \n\n                            Class    Fuel Type  Combined MPG (FT1)  \\\n16448     Small Pickup Trucks 2WD  Electricity                55.0   \n16449     Small Pickup Trucks 2WD  Electricity                28.0   \n16711                Compact Cars  Electricity                48.0   \n17323               Minivan - 2WD  Electricity                35.0   \n17433  Standard Pickup Trucks 2WD  Electricity                58.0   \n\n      Start Stop Technology  \n16448                     N  \n16449                     N  \n16711                     N  \n17323                     N  \n17433                     N  "
     },
     "execution_count": 16,
     "metadata": {},
     "output_type": "execute_result"
    }
   ],
   "source": [
    "fuel[isStartStopDefined].head()"
   ]
  },
  {
   "cell_type": "code",
   "execution_count": 17,
   "metadata": {},
   "outputs": [
    {
     "data": {
      "text/plain": "0    False\n1    False\n2    False\n3    False\n4    False\nName: Combined MPG (FT1), dtype: bool"
     },
     "execution_count": 17,
     "metadata": {},
     "output_type": "execute_result"
    }
   ],
   "source": [
    "mpg50_60 = fuel['Combined MPG (FT1)'].between(50,60)\r\n",
    "mpg50_60.head()"
   ]
  },
  {
   "cell_type": "code",
   "execution_count": 18,
   "metadata": {},
   "outputs": [
    {
     "data": {
      "text/html": "<div>\n<style scoped>\n    .dataframe tbody tr th:only-of-type {\n        vertical-align: middle;\n    }\n\n    .dataframe tbody tr th {\n        vertical-align: top;\n    }\n\n    .dataframe thead th {\n        text-align: right;\n    }\n</style>\n<table border=\"1\" class=\"dataframe\">\n  <thead>\n    <tr style=\"text-align: right;\">\n      <th></th>\n      <th>Vehicle ID</th>\n      <th>Year</th>\n      <th>Make</th>\n      <th>Model</th>\n      <th>Class</th>\n      <th>Fuel Type</th>\n      <th>Combined MPG (FT1)</th>\n      <th>Start Stop Technology</th>\n    </tr>\n  </thead>\n  <tbody>\n    <tr>\n      <th>16448</th>\n      <td>30976</td>\n      <td>1998</td>\n      <td>Chevrolet</td>\n      <td>S10 Electric</td>\n      <td>Small Pickup Trucks 2WD</td>\n      <td>Electricity</td>\n      <td>55.0</td>\n      <td>N</td>\n    </tr>\n    <tr>\n      <th>17433</th>\n      <td>30971</td>\n      <td>1999</td>\n      <td>Ford</td>\n      <td>Ranger Pickup 2WD</td>\n      <td>Standard Pickup Trucks 2WD</td>\n      <td>Electricity</td>\n      <td>58.0</td>\n      <td>N</td>\n    </tr>\n    <tr>\n      <th>18295</th>\n      <td>30966</td>\n      <td>2000</td>\n      <td>Ford</td>\n      <td>Ranger Pickup 2WD</td>\n      <td>Standard Pickup Trucks 2WD</td>\n      <td>Electricity</td>\n      <td>58.0</td>\n      <td>N</td>\n    </tr>\n    <tr>\n      <th>18296</th>\n      <td>30967</td>\n      <td>2000</td>\n      <td>Ford</td>\n      <td>Ranger Pickup 2WD</td>\n      <td>Standard Pickup Trucks 2WD</td>\n      <td>Electricity</td>\n      <td>56.0</td>\n      <td>N</td>\n    </tr>\n    <tr>\n      <th>18371</th>\n      <td>15606</td>\n      <td>2000</td>\n      <td>Honda</td>\n      <td>Insight</td>\n      <td>Two Seaters</td>\n      <td>Regular</td>\n      <td>53.0</td>\n      <td>Y</td>\n    </tr>\n  </tbody>\n</table>\n</div>",
      "text/plain": "       Vehicle ID  Year       Make              Model  \\\n16448       30976  1998  Chevrolet       S10 Electric   \n17433       30971  1999       Ford  Ranger Pickup 2WD   \n18295       30966  2000       Ford  Ranger Pickup 2WD   \n18296       30967  2000       Ford  Ranger Pickup 2WD   \n18371       15606  2000      Honda            Insight   \n\n                            Class    Fuel Type  Combined MPG (FT1)  \\\n16448     Small Pickup Trucks 2WD  Electricity                55.0   \n17433  Standard Pickup Trucks 2WD  Electricity                58.0   \n18295  Standard Pickup Trucks 2WD  Electricity                58.0   \n18296  Standard Pickup Trucks 2WD  Electricity                56.0   \n18371                 Two Seaters      Regular                53.0   \n\n      Start Stop Technology  \n16448                     N  \n17433                     N  \n18295                     N  \n18296                     N  \n18371                     Y  "
     },
     "execution_count": 18,
     "metadata": {},
     "output_type": "execute_result"
    }
   ],
   "source": [
    "fuel[mpg50_60].head()"
   ]
  },
  {
   "cell_type": "code",
   "execution_count": 19,
   "metadata": {},
   "outputs": [
    {
     "name": "stdout",
     "output_type": "stream",
     "text": [
      "There are 4376 cars within the list ['Renault', 'Toyota', 'Ford']\n",
      "There are 31374 cars where Start/Stop technology is not determined\n",
      "There are 310 cars where Start/Stop technology is determined\n",
      "There are 13 cares with MPG value between 50 and 60\n"
     ]
    }
   ],
   "source": [
    "print('There are %d cars within the list %s' %\r\n",
    " (len(fuel[isInList]), listOfCars))\r\n",
    "print('There are %d cars where Start/Stop technology is not determined' %\r\n",
    "len(fuel[isNoStartStopDefined]))\r\n",
    "print('There are %d cars where Start/Stop technology is determined' %\r\n",
    "len(fuel[isStartStopDefined]))\r\n",
    "print('There are %d cares with MPG value between 50 and 60' %\r\n",
    "len(fuel[mpg50_60]))"
   ]
  },
  {
   "cell_type": "code",
   "execution_count": null,
   "metadata": {},
   "outputs": [],
   "source": []
  }
 ],
 "metadata": {
  "kernelspec": {
   "display_name": "Python 3.8.8 64-bit ('base': conda)",
   "name": "python388jvsc74a57bd03ba49629e642786a2de516d48c7b5ebe6c63851376e27734b8be061cc796786d"
  },
  "language_info": {
   "codemirror_mode": {
    "name": "ipython",
    "version": 3
   },
   "file_extension": ".py",
   "mimetype": "text/x-python",
   "name": "python",
   "nbconvert_exporter": "python",
   "pygments_lexer": "ipython3",
   "version": "3.8.8"
  },
  "orig_nbformat": 2
 },
 "nbformat": 4,
 "nbformat_minor": 2
}