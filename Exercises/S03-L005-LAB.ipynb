{
 "cells": [
  {
   "cell_type": "code",
   "execution_count": 1,
   "metadata": {},
   "outputs": [],
   "source": [
    "import pandas as pd\r\n",
    "import numpy as np"
   ]
  },
  {
   "cell_type": "code",
   "execution_count": 2,
   "metadata": {},
   "outputs": [
    {
     "data": {
      "text/html": "<div>\n<style scoped>\n    .dataframe tbody tr th:only-of-type {\n        vertical-align: middle;\n    }\n\n    .dataframe tbody tr th {\n        vertical-align: top;\n    }\n\n    .dataframe thead th {\n        text-align: right;\n    }\n</style>\n<table border=\"1\" class=\"dataframe\">\n  <thead>\n    <tr style=\"text-align: right;\">\n      <th></th>\n      <th>Year</th>\n      <th>Make</th>\n      <th>Model</th>\n      <th>Class</th>\n      <th>Fuel Type</th>\n      <th>Combined MPG (FT1)</th>\n    </tr>\n    <tr>\n      <th>Vehicle ID</th>\n      <th></th>\n      <th></th>\n      <th></th>\n      <th></th>\n      <th></th>\n      <th></th>\n    </tr>\n  </thead>\n  <tbody>\n    <tr>\n      <th>26587</th>\n      <td>1984</td>\n      <td>Alfa Romeo</td>\n      <td>GT V6 2.5</td>\n      <td>Minicompact Cars</td>\n      <td>Regular</td>\n      <td>20.0</td>\n    </tr>\n    <tr>\n      <th>27705</th>\n      <td>1984</td>\n      <td>Alfa Romeo</td>\n      <td>GT V6 2.5</td>\n      <td>Minicompact Cars</td>\n      <td>Regular</td>\n      <td>20.0</td>\n    </tr>\n    <tr>\n      <th>26561</th>\n      <td>1984</td>\n      <td>Alfa Romeo</td>\n      <td>Spider Veloce 2000</td>\n      <td>Two Seaters</td>\n      <td>Regular</td>\n      <td>21.0</td>\n    </tr>\n    <tr>\n      <th>27681</th>\n      <td>1984</td>\n      <td>Alfa Romeo</td>\n      <td>Spider Veloce 2000</td>\n      <td>Two Seaters</td>\n      <td>Regular</td>\n      <td>21.0</td>\n    </tr>\n    <tr>\n      <th>27550</th>\n      <td>1984</td>\n      <td>AM General</td>\n      <td>DJ Po Vehicle 2WD</td>\n      <td>Special Purpose Vehicle 2WD</td>\n      <td>Regular</td>\n      <td>17.0</td>\n    </tr>\n  </tbody>\n</table>\n</div>",
      "text/plain": "            Year        Make               Model                        Class  \\\nVehicle ID                                                                      \n26587       1984  Alfa Romeo           GT V6 2.5             Minicompact Cars   \n27705       1984  Alfa Romeo           GT V6 2.5             Minicompact Cars   \n26561       1984  Alfa Romeo  Spider Veloce 2000                  Two Seaters   \n27681       1984  Alfa Romeo  Spider Veloce 2000                  Two Seaters   \n27550       1984  AM General   DJ Po Vehicle 2WD  Special Purpose Vehicle 2WD   \n\n           Fuel Type  Combined MPG (FT1)  \nVehicle ID                                \n26587        Regular                20.0  \n27705        Regular                20.0  \n26561        Regular                21.0  \n27681        Regular                21.0  \n27550        Regular                17.0  "
     },
     "execution_count": 2,
     "metadata": {},
     "output_type": "execute_result"
    }
   ],
   "source": [
    "fuel = pd.read_csv('../CourseFile/fuel.csv', low_memory=False, usecols=['Vehicle ID','Year','Make','Model','Class','Fuel Type','Combined MPG (FT1)'], index_col='Vehicle ID' )\r\n",
    "fuel.head()"
   ]
  },
  {
   "cell_type": "code",
   "execution_count": 3,
   "metadata": {},
   "outputs": [],
   "source": [
    "fuel.loc[27705, 'Class'] = np.NaN\r\n",
    "fuel.loc[26561, 'Class'] = np.NaN\r\n",
    "fuel.loc[27550, 'Fuel Type'] = np.NaN"
   ]
  },
  {
   "cell_type": "code",
   "execution_count": 5,
   "metadata": {},
   "outputs": [
    {
     "data": {
      "text/html": "<div>\n<style scoped>\n    .dataframe tbody tr th:only-of-type {\n        vertical-align: middle;\n    }\n\n    .dataframe tbody tr th {\n        vertical-align: top;\n    }\n\n    .dataframe thead th {\n        text-align: right;\n    }\n</style>\n<table border=\"1\" class=\"dataframe\">\n  <thead>\n    <tr style=\"text-align: right;\">\n      <th></th>\n      <th>Year</th>\n      <th>Make</th>\n      <th>Model</th>\n      <th>Class</th>\n      <th>Fuel Type</th>\n      <th>Combined MPG (FT1)</th>\n    </tr>\n    <tr>\n      <th>Vehicle ID</th>\n      <th></th>\n      <th></th>\n      <th></th>\n      <th></th>\n      <th></th>\n      <th></th>\n    </tr>\n  </thead>\n  <tbody>\n    <tr>\n      <th>26587</th>\n      <td>1984</td>\n      <td>Alfa Romeo</td>\n      <td>GT V6 2.5</td>\n      <td>Minicompact Cars</td>\n      <td>Regular</td>\n      <td>20.0</td>\n    </tr>\n    <tr>\n      <th>27705</th>\n      <td>1984</td>\n      <td>Alfa Romeo</td>\n      <td>GT V6 2.5</td>\n      <td>NaN</td>\n      <td>Regular</td>\n      <td>20.0</td>\n    </tr>\n    <tr>\n      <th>26561</th>\n      <td>1984</td>\n      <td>Alfa Romeo</td>\n      <td>Spider Veloce 2000</td>\n      <td>NaN</td>\n      <td>Regular</td>\n      <td>21.0</td>\n    </tr>\n    <tr>\n      <th>27681</th>\n      <td>1984</td>\n      <td>Alfa Romeo</td>\n      <td>Spider Veloce 2000</td>\n      <td>Two Seaters</td>\n      <td>Regular</td>\n      <td>21.0</td>\n    </tr>\n    <tr>\n      <th>27550</th>\n      <td>1984</td>\n      <td>AM General</td>\n      <td>DJ Po Vehicle 2WD</td>\n      <td>Special Purpose Vehicle 2WD</td>\n      <td>NaN</td>\n      <td>17.0</td>\n    </tr>\n  </tbody>\n</table>\n</div>",
      "text/plain": "            Year        Make               Model                        Class  \\\nVehicle ID                                                                      \n26587       1984  Alfa Romeo           GT V6 2.5             Minicompact Cars   \n27705       1984  Alfa Romeo           GT V6 2.5                          NaN   \n26561       1984  Alfa Romeo  Spider Veloce 2000                          NaN   \n27681       1984  Alfa Romeo  Spider Veloce 2000                  Two Seaters   \n27550       1984  AM General   DJ Po Vehicle 2WD  Special Purpose Vehicle 2WD   \n\n           Fuel Type  Combined MPG (FT1)  \nVehicle ID                                \n26587        Regular                20.0  \n27705        Regular                20.0  \n26561        Regular                21.0  \n27681        Regular                21.0  \n27550            NaN                17.0  "
     },
     "execution_count": 5,
     "metadata": {},
     "output_type": "execute_result"
    }
   ],
   "source": [
    "fuel.head()"
   ]
  },
  {
   "cell_type": "code",
   "execution_count": 6,
   "metadata": {},
   "outputs": [
    {
     "data": {
      "text/html": "<div>\n<style scoped>\n    .dataframe tbody tr th:only-of-type {\n        vertical-align: middle;\n    }\n\n    .dataframe tbody tr th {\n        vertical-align: top;\n    }\n\n    .dataframe thead th {\n        text-align: right;\n    }\n</style>\n<table border=\"1\" class=\"dataframe\">\n  <thead>\n    <tr style=\"text-align: right;\">\n      <th></th>\n      <th>Year</th>\n      <th>Make</th>\n      <th>Model</th>\n      <th>Class</th>\n      <th>Fuel Type</th>\n      <th>Combined MPG (FT1)</th>\n    </tr>\n    <tr>\n      <th>Vehicle ID</th>\n      <th></th>\n      <th></th>\n      <th></th>\n      <th></th>\n      <th></th>\n      <th></th>\n    </tr>\n  </thead>\n  <tbody>\n    <tr>\n      <th>26587</th>\n      <td>1984</td>\n      <td>Alfa Romeo</td>\n      <td>GT V6 2.5</td>\n      <td>Minicompact Cars</td>\n      <td>Regular</td>\n      <td>20.0</td>\n    </tr>\n    <tr>\n      <th>27681</th>\n      <td>1984</td>\n      <td>Alfa Romeo</td>\n      <td>Spider Veloce 2000</td>\n      <td>Two Seaters</td>\n      <td>Regular</td>\n      <td>21.0</td>\n    </tr>\n    <tr>\n      <th>28426</th>\n      <td>1984</td>\n      <td>AM General</td>\n      <td>DJ Po Vehicle 2WD</td>\n      <td>Special Purpose Vehicle 2WD</td>\n      <td>Regular</td>\n      <td>17.0</td>\n    </tr>\n    <tr>\n      <th>27549</th>\n      <td>1984</td>\n      <td>AM General</td>\n      <td>FJ8c Post Office</td>\n      <td>Special Purpose Vehicle 2WD</td>\n      <td>Regular</td>\n      <td>13.0</td>\n    </tr>\n    <tr>\n      <th>28425</th>\n      <td>1984</td>\n      <td>AM General</td>\n      <td>FJ8c Post Office</td>\n      <td>Special Purpose Vehicle 2WD</td>\n      <td>Regular</td>\n      <td>13.0</td>\n    </tr>\n    <tr>\n      <th>...</th>\n      <td>...</td>\n      <td>...</td>\n      <td>...</td>\n      <td>...</td>\n      <td>...</td>\n      <td>...</td>\n    </tr>\n    <tr>\n      <th>32058</th>\n      <td>2012</td>\n      <td>Mitsubishi</td>\n      <td>Lancer</td>\n      <td>Compact Cars</td>\n      <td>Regular</td>\n      <td>28.0</td>\n    </tr>\n    <tr>\n      <th>32060</th>\n      <td>2012</td>\n      <td>Mitsubishi</td>\n      <td>Lancer</td>\n      <td>Compact Cars</td>\n      <td>Regular</td>\n      <td>25.0</td>\n    </tr>\n    <tr>\n      <th>32063</th>\n      <td>2012</td>\n      <td>Mitsubishi</td>\n      <td>Lancer AWD</td>\n      <td>Compact Cars</td>\n      <td>Regular</td>\n      <td>25.0</td>\n    </tr>\n    <tr>\n      <th>32065</th>\n      <td>2012</td>\n      <td>Mitsubishi</td>\n      <td>Lancer Evolution</td>\n      <td>Compact Cars</td>\n      <td>Premium</td>\n      <td>19.0</td>\n    </tr>\n    <tr>\n      <th>32064</th>\n      <td>2012</td>\n      <td>Mitsubishi</td>\n      <td>Lancer Evolution</td>\n      <td>Compact Cars</td>\n      <td>Premium</td>\n      <td>19.0</td>\n    </tr>\n  </tbody>\n</table>\n<p>31680 rows × 6 columns</p>\n</div>",
      "text/plain": "            Year        Make               Model                        Class  \\\nVehicle ID                                                                      \n26587       1984  Alfa Romeo           GT V6 2.5             Minicompact Cars   \n27681       1984  Alfa Romeo  Spider Veloce 2000                  Two Seaters   \n28426       1984  AM General   DJ Po Vehicle 2WD  Special Purpose Vehicle 2WD   \n27549       1984  AM General    FJ8c Post Office  Special Purpose Vehicle 2WD   \n28425       1984  AM General    FJ8c Post Office  Special Purpose Vehicle 2WD   \n...          ...         ...                 ...                          ...   \n32058       2012  Mitsubishi              Lancer                 Compact Cars   \n32060       2012  Mitsubishi              Lancer                 Compact Cars   \n32063       2012  Mitsubishi          Lancer AWD                 Compact Cars   \n32065       2012  Mitsubishi    Lancer Evolution                 Compact Cars   \n32064       2012  Mitsubishi    Lancer Evolution                 Compact Cars   \n\n           Fuel Type  Combined MPG (FT1)  \nVehicle ID                                \n26587        Regular                20.0  \n27681        Regular                21.0  \n28426        Regular                17.0  \n27549        Regular                13.0  \n28425        Regular                13.0  \n...              ...                 ...  \n32058        Regular                28.0  \n32060        Regular                25.0  \n32063        Regular                25.0  \n32065        Premium                19.0  \n32064        Premium                19.0  \n\n[31680 rows x 6 columns]"
     },
     "execution_count": 6,
     "metadata": {},
     "output_type": "execute_result"
    }
   ],
   "source": [
    "fuel.dropna()"
   ]
  },
  {
   "cell_type": "code",
   "execution_count": 8,
   "metadata": {},
   "outputs": [
    {
     "data": {
      "text/html": "<div>\n<style scoped>\n    .dataframe tbody tr th:only-of-type {\n        vertical-align: middle;\n    }\n\n    .dataframe tbody tr th {\n        vertical-align: top;\n    }\n\n    .dataframe thead th {\n        text-align: right;\n    }\n</style>\n<table border=\"1\" class=\"dataframe\">\n  <thead>\n    <tr style=\"text-align: right;\">\n      <th></th>\n      <th>Year</th>\n      <th>Make</th>\n    </tr>\n    <tr>\n      <th>Vehicle ID</th>\n      <th></th>\n      <th></th>\n    </tr>\n  </thead>\n  <tbody>\n    <tr>\n      <th>26587</th>\n      <td>1984</td>\n      <td>Alfa Romeo</td>\n    </tr>\n    <tr>\n      <th>27705</th>\n      <td>1984</td>\n      <td>Alfa Romeo</td>\n    </tr>\n    <tr>\n      <th>26561</th>\n      <td>1984</td>\n      <td>Alfa Romeo</td>\n    </tr>\n    <tr>\n      <th>27681</th>\n      <td>1984</td>\n      <td>Alfa Romeo</td>\n    </tr>\n    <tr>\n      <th>27550</th>\n      <td>1984</td>\n      <td>AM General</td>\n    </tr>\n  </tbody>\n</table>\n</div>",
      "text/plain": "            Year        Make\nVehicle ID                  \n26587       1984  Alfa Romeo\n27705       1984  Alfa Romeo\n26561       1984  Alfa Romeo\n27681       1984  Alfa Romeo\n27550       1984  AM General"
     },
     "execution_count": 8,
     "metadata": {},
     "output_type": "execute_result"
    }
   ],
   "source": [
    "fuel.dropna(axis=1).head()"
   ]
  },
  {
   "cell_type": "code",
   "execution_count": 7,
   "metadata": {},
   "outputs": [
    {
     "data": {
      "text/html": "<div>\n<style scoped>\n    .dataframe tbody tr th:only-of-type {\n        vertical-align: middle;\n    }\n\n    .dataframe tbody tr th {\n        vertical-align: top;\n    }\n\n    .dataframe thead th {\n        text-align: right;\n    }\n</style>\n<table border=\"1\" class=\"dataframe\">\n  <thead>\n    <tr style=\"text-align: right;\">\n      <th></th>\n      <th>Year</th>\n      <th>Make</th>\n      <th>Model</th>\n      <th>Class</th>\n      <th>Fuel Type</th>\n      <th>Combined MPG (FT1)</th>\n    </tr>\n    <tr>\n      <th>Vehicle ID</th>\n      <th></th>\n      <th></th>\n      <th></th>\n      <th></th>\n      <th></th>\n      <th></th>\n    </tr>\n  </thead>\n  <tbody>\n    <tr>\n      <th>26587</th>\n      <td>1984</td>\n      <td>Alfa Romeo</td>\n      <td>GT V6 2.5</td>\n      <td>Minicompact Cars</td>\n      <td>Regular</td>\n      <td>20.0</td>\n    </tr>\n    <tr>\n      <th>27681</th>\n      <td>1984</td>\n      <td>Alfa Romeo</td>\n      <td>Spider Veloce 2000</td>\n      <td>Two Seaters</td>\n      <td>Regular</td>\n      <td>21.0</td>\n    </tr>\n    <tr>\n      <th>27550</th>\n      <td>1984</td>\n      <td>AM General</td>\n      <td>DJ Po Vehicle 2WD</td>\n      <td>Special Purpose Vehicle 2WD</td>\n      <td>NaN</td>\n      <td>17.0</td>\n    </tr>\n    <tr>\n      <th>28426</th>\n      <td>1984</td>\n      <td>AM General</td>\n      <td>DJ Po Vehicle 2WD</td>\n      <td>Special Purpose Vehicle 2WD</td>\n      <td>Regular</td>\n      <td>17.0</td>\n    </tr>\n    <tr>\n      <th>27549</th>\n      <td>1984</td>\n      <td>AM General</td>\n      <td>FJ8c Post Office</td>\n      <td>Special Purpose Vehicle 2WD</td>\n      <td>Regular</td>\n      <td>13.0</td>\n    </tr>\n  </tbody>\n</table>\n</div>",
      "text/plain": "            Year        Make               Model                        Class  \\\nVehicle ID                                                                      \n26587       1984  Alfa Romeo           GT V6 2.5             Minicompact Cars   \n27681       1984  Alfa Romeo  Spider Veloce 2000                  Two Seaters   \n27550       1984  AM General   DJ Po Vehicle 2WD  Special Purpose Vehicle 2WD   \n28426       1984  AM General   DJ Po Vehicle 2WD  Special Purpose Vehicle 2WD   \n27549       1984  AM General    FJ8c Post Office  Special Purpose Vehicle 2WD   \n\n           Fuel Type  Combined MPG (FT1)  \nVehicle ID                                \n26587        Regular                20.0  \n27681        Regular                21.0  \n27550            NaN                17.0  \n28426        Regular                17.0  \n27549        Regular                13.0  "
     },
     "execution_count": 7,
     "metadata": {},
     "output_type": "execute_result"
    }
   ],
   "source": [
    "fuel.dropna(subset=['Class']).head()"
   ]
  },
  {
   "cell_type": "code",
   "execution_count": 9,
   "metadata": {},
   "outputs": [
    {
     "data": {
      "text/html": "<div>\n<style scoped>\n    .dataframe tbody tr th:only-of-type {\n        vertical-align: middle;\n    }\n\n    .dataframe tbody tr th {\n        vertical-align: top;\n    }\n\n    .dataframe thead th {\n        text-align: right;\n    }\n</style>\n<table border=\"1\" class=\"dataframe\">\n  <thead>\n    <tr style=\"text-align: right;\">\n      <th></th>\n      <th>Year</th>\n      <th>Make</th>\n      <th>Model</th>\n      <th>Class</th>\n      <th>Fuel Type</th>\n      <th>Combined MPG (FT1)</th>\n    </tr>\n    <tr>\n      <th>Vehicle ID</th>\n      <th></th>\n      <th></th>\n      <th></th>\n      <th></th>\n      <th></th>\n      <th></th>\n    </tr>\n  </thead>\n  <tbody>\n    <tr>\n      <th>26587</th>\n      <td>1984</td>\n      <td>Alfa Romeo</td>\n      <td>GT V6 2.5</td>\n      <td>Minicompact Cars</td>\n      <td>Regular</td>\n      <td>20.0</td>\n    </tr>\n    <tr>\n      <th>27705</th>\n      <td>1984</td>\n      <td>Alfa Romeo</td>\n      <td>GT V6 2.5</td>\n      <td>NaN</td>\n      <td>Regular</td>\n      <td>20.0</td>\n    </tr>\n    <tr>\n      <th>26561</th>\n      <td>1984</td>\n      <td>Alfa Romeo</td>\n      <td>Spider Veloce 2000</td>\n      <td>NaN</td>\n      <td>Regular</td>\n      <td>21.0</td>\n    </tr>\n    <tr>\n      <th>27681</th>\n      <td>1984</td>\n      <td>Alfa Romeo</td>\n      <td>Spider Veloce 2000</td>\n      <td>Two Seaters</td>\n      <td>Regular</td>\n      <td>21.0</td>\n    </tr>\n    <tr>\n      <th>27550</th>\n      <td>1984</td>\n      <td>AM General</td>\n      <td>DJ Po Vehicle 2WD</td>\n      <td>Special Purpose Vehicle 2WD</td>\n      <td>NaN</td>\n      <td>17.0</td>\n    </tr>\n  </tbody>\n</table>\n</div>",
      "text/plain": "            Year        Make               Model                        Class  \\\nVehicle ID                                                                      \n26587       1984  Alfa Romeo           GT V6 2.5             Minicompact Cars   \n27705       1984  Alfa Romeo           GT V6 2.5                          NaN   \n26561       1984  Alfa Romeo  Spider Veloce 2000                          NaN   \n27681       1984  Alfa Romeo  Spider Veloce 2000                  Two Seaters   \n27550       1984  AM General   DJ Po Vehicle 2WD  Special Purpose Vehicle 2WD   \n\n           Fuel Type  Combined MPG (FT1)  \nVehicle ID                                \n26587        Regular                20.0  \n27705        Regular                20.0  \n26561        Regular                21.0  \n27681        Regular                21.0  \n27550            NaN                17.0  "
     },
     "execution_count": 9,
     "metadata": {},
     "output_type": "execute_result"
    }
   ],
   "source": [
    "fuel.head()"
   ]
  },
  {
   "cell_type": "code",
   "execution_count": 10,
   "metadata": {},
   "outputs": [],
   "source": [
    "fuel.dropna(subset=['Class'], inplace=True)"
   ]
  },
  {
   "cell_type": "code",
   "execution_count": 11,
   "metadata": {},
   "outputs": [
    {
     "data": {
      "text/html": "<div>\n<style scoped>\n    .dataframe tbody tr th:only-of-type {\n        vertical-align: middle;\n    }\n\n    .dataframe tbody tr th {\n        vertical-align: top;\n    }\n\n    .dataframe thead th {\n        text-align: right;\n    }\n</style>\n<table border=\"1\" class=\"dataframe\">\n  <thead>\n    <tr style=\"text-align: right;\">\n      <th></th>\n      <th>Year</th>\n      <th>Make</th>\n      <th>Model</th>\n      <th>Class</th>\n      <th>Fuel Type</th>\n      <th>Combined MPG (FT1)</th>\n    </tr>\n    <tr>\n      <th>Vehicle ID</th>\n      <th></th>\n      <th></th>\n      <th></th>\n      <th></th>\n      <th></th>\n      <th></th>\n    </tr>\n  </thead>\n  <tbody>\n    <tr>\n      <th>26587</th>\n      <td>1984</td>\n      <td>Alfa Romeo</td>\n      <td>GT V6 2.5</td>\n      <td>Minicompact Cars</td>\n      <td>Regular</td>\n      <td>20.0</td>\n    </tr>\n    <tr>\n      <th>27681</th>\n      <td>1984</td>\n      <td>Alfa Romeo</td>\n      <td>Spider Veloce 2000</td>\n      <td>Two Seaters</td>\n      <td>Regular</td>\n      <td>21.0</td>\n    </tr>\n    <tr>\n      <th>27550</th>\n      <td>1984</td>\n      <td>AM General</td>\n      <td>DJ Po Vehicle 2WD</td>\n      <td>Special Purpose Vehicle 2WD</td>\n      <td>NaN</td>\n      <td>17.0</td>\n    </tr>\n    <tr>\n      <th>28426</th>\n      <td>1984</td>\n      <td>AM General</td>\n      <td>DJ Po Vehicle 2WD</td>\n      <td>Special Purpose Vehicle 2WD</td>\n      <td>Regular</td>\n      <td>17.0</td>\n    </tr>\n    <tr>\n      <th>27549</th>\n      <td>1984</td>\n      <td>AM General</td>\n      <td>FJ8c Post Office</td>\n      <td>Special Purpose Vehicle 2WD</td>\n      <td>Regular</td>\n      <td>13.0</td>\n    </tr>\n  </tbody>\n</table>\n</div>",
      "text/plain": "            Year        Make               Model                        Class  \\\nVehicle ID                                                                      \n26587       1984  Alfa Romeo           GT V6 2.5             Minicompact Cars   \n27681       1984  Alfa Romeo  Spider Veloce 2000                  Two Seaters   \n27550       1984  AM General   DJ Po Vehicle 2WD  Special Purpose Vehicle 2WD   \n28426       1984  AM General   DJ Po Vehicle 2WD  Special Purpose Vehicle 2WD   \n27549       1984  AM General    FJ8c Post Office  Special Purpose Vehicle 2WD   \n\n           Fuel Type  Combined MPG (FT1)  \nVehicle ID                                \n26587        Regular                20.0  \n27681        Regular                21.0  \n27550            NaN                17.0  \n28426        Regular                17.0  \n27549        Regular                13.0  "
     },
     "execution_count": 11,
     "metadata": {},
     "output_type": "execute_result"
    }
   ],
   "source": [
    "fuel.head()"
   ]
  },
  {
   "cell_type": "code",
   "execution_count": null,
   "metadata": {},
   "outputs": [],
   "source": []
  }
 ],
 "metadata": {
  "kernelspec": {
   "display_name": "Python 3.8.8 64-bit ('base': conda)",
   "name": "python388jvsc74a57bd03ba49629e642786a2de516d48c7b5ebe6c63851376e27734b8be061cc796786d"
  },
  "language_info": {
   "codemirror_mode": {
    "name": "ipython",
    "version": 3
   },
   "file_extension": ".py",
   "mimetype": "text/x-python",
   "name": "python",
   "nbconvert_exporter": "python",
   "pygments_lexer": "ipython3",
   "version": "3.8.8"
  },
  "orig_nbformat": 2
 },
 "nbformat": 4,
 "nbformat_minor": 2
}