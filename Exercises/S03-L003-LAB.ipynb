{
 "cells": [
  {
   "cell_type": "code",
   "execution_count": 1,
   "metadata": {},
   "outputs": [],
   "source": [
    "import pandas as pd"
   ]
  },
  {
   "cell_type": "code",
   "execution_count": 3,
   "metadata": {},
   "outputs": [
    {
     "data": {
      "text/html": "<div>\n<style scoped>\n    .dataframe tbody tr th:only-of-type {\n        vertical-align: middle;\n    }\n\n    .dataframe tbody tr th {\n        vertical-align: top;\n    }\n\n    .dataframe thead th {\n        text-align: right;\n    }\n</style>\n<table border=\"1\" class=\"dataframe\">\n  <thead>\n    <tr style=\"text-align: right;\">\n      <th></th>\n      <th>Year</th>\n      <th>Make</th>\n      <th>Model</th>\n      <th>Class</th>\n      <th>Fuel Type</th>\n      <th>Combined MPG (FT1)</th>\n    </tr>\n    <tr>\n      <th>Vehicle ID</th>\n      <th></th>\n      <th></th>\n      <th></th>\n      <th></th>\n      <th></th>\n      <th></th>\n    </tr>\n  </thead>\n  <tbody>\n    <tr>\n      <th>26587</th>\n      <td>1984</td>\n      <td>Alfa Romeo</td>\n      <td>GT V6 2.5</td>\n      <td>Minicompact Cars</td>\n      <td>Regular</td>\n      <td>20.0</td>\n    </tr>\n    <tr>\n      <th>27705</th>\n      <td>1984</td>\n      <td>Alfa Romeo</td>\n      <td>GT V6 2.5</td>\n      <td>Minicompact Cars</td>\n      <td>Regular</td>\n      <td>20.0</td>\n    </tr>\n    <tr>\n      <th>26561</th>\n      <td>1984</td>\n      <td>Alfa Romeo</td>\n      <td>Spider Veloce 2000</td>\n      <td>Two Seaters</td>\n      <td>Regular</td>\n      <td>21.0</td>\n    </tr>\n    <tr>\n      <th>27681</th>\n      <td>1984</td>\n      <td>Alfa Romeo</td>\n      <td>Spider Veloce 2000</td>\n      <td>Two Seaters</td>\n      <td>Regular</td>\n      <td>21.0</td>\n    </tr>\n    <tr>\n      <th>27550</th>\n      <td>1984</td>\n      <td>AM General</td>\n      <td>DJ Po Vehicle 2WD</td>\n      <td>Special Purpose Vehicle 2WD</td>\n      <td>Regular</td>\n      <td>17.0</td>\n    </tr>\n  </tbody>\n</table>\n</div>",
      "text/plain": "            Year        Make               Model                        Class  \\\nVehicle ID                                                                      \n26587       1984  Alfa Romeo           GT V6 2.5             Minicompact Cars   \n27705       1984  Alfa Romeo           GT V6 2.5             Minicompact Cars   \n26561       1984  Alfa Romeo  Spider Veloce 2000                  Two Seaters   \n27681       1984  Alfa Romeo  Spider Veloce 2000                  Two Seaters   \n27550       1984  AM General   DJ Po Vehicle 2WD  Special Purpose Vehicle 2WD   \n\n           Fuel Type  Combined MPG (FT1)  \nVehicle ID                                \n26587        Regular                20.0  \n27705        Regular                20.0  \n26561        Regular                21.0  \n27681        Regular                21.0  \n27550        Regular                17.0  "
     },
     "execution_count": 3,
     "metadata": {},
     "output_type": "execute_result"
    }
   ],
   "source": [
    "fuel = pd.read_csv(\"../CourseFile/fuel.csv\", low_memory=False, usecols=['Vehicle ID','Year','Make',\r\n",
    "'Model','Class','Fuel Type','Combined MPG (FT1)'], index_col='Vehicle ID')\r\n",
    "fuel.head()"
   ]
  },
  {
   "cell_type": "code",
   "execution_count": 4,
   "metadata": {},
   "outputs": [
    {
     "data": {
      "text/plain": "Vehicle ID\n26587    Alfa Romeo\n27705    Alfa Romeo\n26561    Alfa Romeo\n27681    Alfa Romeo\n27550    AM General\n            ...    \n32060    Mitsubishi\n32063    Mitsubishi\n32065    Mitsubishi\n32064    Mitsubishi\n32106     Mitsubish\nName: Make, Length: 31684, dtype: object"
     },
     "execution_count": 4,
     "metadata": {},
     "output_type": "execute_result"
    }
   ],
   "source": [
    "fuel.Make"
   ]
  },
  {
   "cell_type": "code",
   "execution_count": 6,
   "metadata": {},
   "outputs": [
    {
     "data": {
      "text/plain": "Chevrolet    3389\nFord         2721\nDodge        2361\nGMC          2174\nToyota       1599\nName: Make, dtype: int64"
     },
     "execution_count": 6,
     "metadata": {},
     "output_type": "execute_result"
    }
   ],
   "source": [
    "fuel.Make.value_counts().head()"
   ]
  },
  {
   "cell_type": "code",
   "execution_count": 11,
   "metadata": {},
   "outputs": [
    {
     "data": {
      "text/plain": "Year                             1986\nMake                       Mitsubishi\nModel                         Starion\nClass                 Subcompact Cars\nFuel Type                     Premium\nCombined MPG (FT1)               19.0\nName: 1873, dtype: object"
     },
     "execution_count": 11,
     "metadata": {},
     "output_type": "execute_result"
    }
   ],
   "source": [
    "fuel.loc[1873]"
   ]
  },
  {
   "cell_type": "code",
   "execution_count": 13,
   "metadata": {},
   "outputs": [
    {
     "data": {
      "text/plain": "19.0"
     },
     "execution_count": 13,
     "metadata": {},
     "output_type": "execute_result"
    }
   ],
   "source": [
    "fuel.loc[1873, \"Combined MPG (FT1)\"]"
   ]
  },
  {
   "cell_type": "code",
   "execution_count": 18,
   "metadata": {},
   "outputs": [
    {
     "data": {
      "text/plain": "112.0"
     },
     "execution_count": 18,
     "metadata": {},
     "output_type": "execute_result"
    }
   ],
   "source": [
    "fuel[\"Combined MPG (FT1)\"].max()"
   ]
  },
  {
   "cell_type": "code",
   "execution_count": 24,
   "metadata": {},
   "outputs": [],
   "source": [
    "fuelEx = fuel[\"Combined MPG (FT1)\"].idxmax()"
   ]
  },
  {
   "cell_type": "code",
   "execution_count": 25,
   "metadata": {},
   "outputs": [
    {
     "data": {
      "text/plain": "Year                             2012\nMake                       Mitsubishi\nModel                          i-MiEV\nClass                 Subcompact Cars\nFuel Type                 Electricity\nCombined MPG (FT1)              112.0\nName: 31673, dtype: object"
     },
     "execution_count": 25,
     "metadata": {},
     "output_type": "execute_result"
    }
   ],
   "source": [
    "fuel.loc[fuelEx]"
   ]
  },
  {
   "cell_type": "code",
   "execution_count": 23,
   "metadata": {},
   "outputs": [
    {
     "data": {
      "text/plain": "Year                             2012\nMake                       Mitsubishi\nModel                          i-MiEV\nClass                 Subcompact Cars\nFuel Type                 Electricity\nCombined MPG (FT1)              112.0\nName: 31673, dtype: object"
     },
     "execution_count": 23,
     "metadata": {},
     "output_type": "execute_result"
    }
   ],
   "source": [
    "fuel.loc[fuel[\"Combined MPG (FT1)\"].idxmax()]"
   ]
  },
  {
   "cell_type": "code",
   "execution_count": 28,
   "metadata": {},
   "outputs": [
    {
     "data": {
      "text/html": "<div>\n<style scoped>\n    .dataframe tbody tr th:only-of-type {\n        vertical-align: middle;\n    }\n\n    .dataframe tbody tr th {\n        vertical-align: top;\n    }\n\n    .dataframe thead th {\n        text-align: right;\n    }\n</style>\n<table border=\"1\" class=\"dataframe\">\n  <thead>\n    <tr style=\"text-align: right;\">\n      <th></th>\n      <th>Make</th>\n      <th>Model</th>\n    </tr>\n    <tr>\n      <th>Vehicle ID</th>\n      <th></th>\n      <th></th>\n    </tr>\n  </thead>\n  <tbody>\n    <tr>\n      <th>26587</th>\n      <td>Alfa Romeo</td>\n      <td>GT V6 2.5</td>\n    </tr>\n    <tr>\n      <th>27705</th>\n      <td>Alfa Romeo</td>\n      <td>GT V6 2.5</td>\n    </tr>\n    <tr>\n      <th>26561</th>\n      <td>Alfa Romeo</td>\n      <td>Spider Veloce 2000</td>\n    </tr>\n    <tr>\n      <th>27681</th>\n      <td>Alfa Romeo</td>\n      <td>Spider Veloce 2000</td>\n    </tr>\n    <tr>\n      <th>27550</th>\n      <td>AM General</td>\n      <td>DJ Po Vehicle 2WD</td>\n    </tr>\n  </tbody>\n</table>\n</div>",
      "text/plain": "                  Make               Model\nVehicle ID                                \n26587       Alfa Romeo           GT V6 2.5\n27705       Alfa Romeo           GT V6 2.5\n26561       Alfa Romeo  Spider Veloce 2000\n27681       Alfa Romeo  Spider Veloce 2000\n27550       AM General   DJ Po Vehicle 2WD"
     },
     "execution_count": 28,
     "metadata": {},
     "output_type": "execute_result"
    }
   ],
   "source": [
    "shortFuel = fuel[[\"Make\", \"Model\"]]\r\n",
    "shortFuel.head()"
   ]
  },
  {
   "cell_type": "code",
   "execution_count": null,
   "metadata": {},
   "outputs": [],
   "source": []
  }
 ],
 "metadata": {
  "kernelspec": {
   "display_name": "Python 3.8.8 64-bit ('base': conda)",
   "name": "python388jvsc74a57bd03ba49629e642786a2de516d48c7b5ebe6c63851376e27734b8be061cc796786d"
  },
  "language_info": {
   "codemirror_mode": {
    "name": "ipython",
    "version": 3
   },
   "file_extension": ".py",
   "mimetype": "text/x-python",
   "name": "python",
   "nbconvert_exporter": "python",
   "pygments_lexer": "ipython3",
   "version": "3.8.8"
  },
  "orig_nbformat": 2
 },
 "nbformat": 4,
 "nbformat_minor": 2
}