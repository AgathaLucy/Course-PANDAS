{
 "cells": [
  {
   "cell_type": "code",
   "execution_count": 1,
   "metadata": {},
   "outputs": [
    {
     "data": {
      "text/html": "<div>\n<style scoped>\n    .dataframe tbody tr th:only-of-type {\n        vertical-align: middle;\n    }\n\n    .dataframe tbody tr th {\n        vertical-align: top;\n    }\n\n    .dataframe thead th {\n        text-align: right;\n    }\n</style>\n<table border=\"1\" class=\"dataframe\">\n  <thead>\n    <tr style=\"text-align: right;\">\n      <th></th>\n      <th>Title</th>\n      <th>Employees</th>\n      <th>Profits</th>\n      <th>Assets</th>\n    </tr>\n    <tr>\n      <th>Rank</th>\n      <th></th>\n      <th></th>\n      <th></th>\n      <th></th>\n    </tr>\n  </thead>\n  <tbody>\n    <tr>\n      <th>1</th>\n      <td>Walmart</td>\n      <td>2300000</td>\n      <td>13643.0</td>\n      <td>198825</td>\n    </tr>\n    <tr>\n      <th>2</th>\n      <td>Berkshire Hathaway</td>\n      <td>367700</td>\n      <td>24074.0</td>\n      <td>620854</td>\n    </tr>\n    <tr>\n      <th>3</th>\n      <td>Apple</td>\n      <td>116000</td>\n      <td>45687.0</td>\n      <td>321686</td>\n    </tr>\n    <tr>\n      <th>4</th>\n      <td>Exxon Mobil</td>\n      <td>72700</td>\n      <td>7840.0</td>\n      <td>330314</td>\n    </tr>\n    <tr>\n      <th>5</th>\n      <td>McKesson</td>\n      <td>68000</td>\n      <td>2258.0</td>\n      <td>56563</td>\n    </tr>\n  </tbody>\n</table>\n</div>",
      "text/plain": "                   Title  Employees  Profits  Assets\nRank                                                \n1                Walmart    2300000  13643.0  198825\n2     Berkshire Hathaway     367700  24074.0  620854\n3                  Apple     116000  45687.0  321686\n4            Exxon Mobil      72700   7840.0  330314\n5               McKesson      68000   2258.0   56563"
     },
     "execution_count": 1,
     "metadata": {},
     "output_type": "execute_result"
    }
   ],
   "source": [
    "import pandas as pd\r\n",
    "import numpy as np\r\n",
    "fortune = pd.read_csv('../CourseFile/Fortune_500_2017.csv', low_memory=False, \r\n",
    "usecols=['Rank','Title','Employees','Profits','Assets'], index_col='Rank')\r\n",
    "fortune.head()"
   ]
  },
  {
   "cell_type": "code",
   "execution_count": 2,
   "metadata": {},
   "outputs": [],
   "source": [
    "fortune['RankByEmployee'] = fortune['Employees'].rank(ascending=False)"
   ]
  },
  {
   "cell_type": "code",
   "execution_count": 3,
   "metadata": {},
   "outputs": [],
   "source": [
    "fortune['RankByProfits'] = fortune['Profits'].rank(ascending=False)"
   ]
  },
  {
   "cell_type": "code",
   "execution_count": 7,
   "metadata": {},
   "outputs": [],
   "source": [
    "isEmployeesRankFirst10 = fortune['RankByEmployee'] <= 10"
   ]
  },
  {
   "cell_type": "code",
   "execution_count": 8,
   "metadata": {},
   "outputs": [
    {
     "data": {
      "text/html": "<div>\n<style scoped>\n    .dataframe tbody tr th:only-of-type {\n        vertical-align: middle;\n    }\n\n    .dataframe tbody tr th {\n        vertical-align: top;\n    }\n\n    .dataframe thead th {\n        text-align: right;\n    }\n</style>\n<table border=\"1\" class=\"dataframe\">\n  <thead>\n    <tr style=\"text-align: right;\">\n      <th></th>\n      <th>Title</th>\n      <th>Employees</th>\n      <th>Profits</th>\n      <th>Assets</th>\n      <th>RankByEmployee</th>\n      <th>RankByProfits</th>\n    </tr>\n    <tr>\n      <th>Rank</th>\n      <th></th>\n      <th></th>\n      <th></th>\n      <th></th>\n      <th></th>\n      <th></th>\n    </tr>\n  </thead>\n  <tbody>\n    <tr>\n      <th>1</th>\n      <td>Walmart</td>\n      <td>2300000</td>\n      <td>13643.0</td>\n      <td>198825</td>\n      <td>1.0</td>\n      <td>11.0</td>\n    </tr>\n    <tr>\n      <th>2</th>\n      <td>Berkshire Hathaway</td>\n      <td>367700</td>\n      <td>24074.0</td>\n      <td>620854</td>\n      <td>7.0</td>\n      <td>3.0</td>\n    </tr>\n    <tr>\n      <th>12</th>\n      <td>Amazon.com</td>\n      <td>341400</td>\n      <td>2371.0</td>\n      <td>83402</td>\n      <td>8.0</td>\n      <td>96.0</td>\n    </tr>\n    <tr>\n      <th>18</th>\n      <td>Kroger</td>\n      <td>443000</td>\n      <td>1975.0</td>\n      <td>36505</td>\n      <td>2.0</td>\n      <td>117.0</td>\n    </tr>\n    <tr>\n      <th>23</th>\n      <td>Home Depot</td>\n      <td>406000</td>\n      <td>7957.0</td>\n      <td>42966</td>\n      <td>5.0</td>\n      <td>26.0</td>\n    </tr>\n    <tr>\n      <th>32</th>\n      <td>IBM</td>\n      <td>414400</td>\n      <td>11872.0</td>\n      <td>117470</td>\n      <td>4.0</td>\n      <td>16.0</td>\n    </tr>\n    <tr>\n      <th>46</th>\n      <td>UPS</td>\n      <td>335520</td>\n      <td>3431.0</td>\n      <td>40377</td>\n      <td>10.0</td>\n      <td>71.0</td>\n    </tr>\n    <tr>\n      <th>58</th>\n      <td>FedEx</td>\n      <td>335767</td>\n      <td>1820.0</td>\n      <td>46064</td>\n      <td>9.0</td>\n      <td>124.0</td>\n    </tr>\n    <tr>\n      <th>112</th>\n      <td>McDonald’s</td>\n      <td>375000</td>\n      <td>4686.5</td>\n      <td>31024</td>\n      <td>6.0</td>\n      <td>51.0</td>\n    </tr>\n    <tr>\n      <th>399</th>\n      <td>Yum China Holdings</td>\n      <td>420000</td>\n      <td>502.0</td>\n      <td>3727</td>\n      <td>3.0</td>\n      <td>300.0</td>\n    </tr>\n  </tbody>\n</table>\n</div>",
      "text/plain": "                   Title  Employees  Profits  Assets  RankByEmployee  \\\nRank                                                                   \n1                Walmart    2300000  13643.0  198825             1.0   \n2     Berkshire Hathaway     367700  24074.0  620854             7.0   \n12            Amazon.com     341400   2371.0   83402             8.0   \n18                Kroger     443000   1975.0   36505             2.0   \n23            Home Depot     406000   7957.0   42966             5.0   \n32                   IBM     414400  11872.0  117470             4.0   \n46                   UPS     335520   3431.0   40377            10.0   \n58                 FedEx     335767   1820.0   46064             9.0   \n112           McDonald’s     375000   4686.5   31024             6.0   \n399   Yum China Holdings     420000    502.0    3727             3.0   \n\n      RankByProfits  \nRank                 \n1              11.0  \n2               3.0  \n12             96.0  \n18            117.0  \n23             26.0  \n32             16.0  \n46             71.0  \n58            124.0  \n112            51.0  \n399           300.0  "
     },
     "execution_count": 8,
     "metadata": {},
     "output_type": "execute_result"
    }
   ],
   "source": [
    "(fortune[isEmployeesRankFirst10]).head(15)"
   ]
  },
  {
   "cell_type": "code",
   "execution_count": 9,
   "metadata": {},
   "outputs": [],
   "source": [
    "isProfitRankFirst10 = fortune['RankByProfits'] <= 10"
   ]
  },
  {
   "cell_type": "code",
   "execution_count": 10,
   "metadata": {},
   "outputs": [
    {
     "data": {
      "text/html": "<div>\n<style scoped>\n    .dataframe tbody tr th:only-of-type {\n        vertical-align: middle;\n    }\n\n    .dataframe tbody tr th {\n        vertical-align: top;\n    }\n\n    .dataframe thead th {\n        text-align: right;\n    }\n</style>\n<table border=\"1\" class=\"dataframe\">\n  <thead>\n    <tr style=\"text-align: right;\">\n      <th></th>\n      <th>Title</th>\n      <th>Employees</th>\n      <th>Profits</th>\n      <th>Assets</th>\n      <th>RankByEmployee</th>\n      <th>RankByProfits</th>\n    </tr>\n    <tr>\n      <th>Rank</th>\n      <th></th>\n      <th></th>\n      <th></th>\n      <th></th>\n      <th></th>\n      <th></th>\n    </tr>\n  </thead>\n  <tbody>\n    <tr>\n      <th>2</th>\n      <td>Berkshire Hathaway</td>\n      <td>367700</td>\n      <td>24074.0</td>\n      <td>620854</td>\n      <td>7.0</td>\n      <td>3.0</td>\n    </tr>\n    <tr>\n      <th>3</th>\n      <td>Apple</td>\n      <td>116000</td>\n      <td>45687.0</td>\n      <td>321686</td>\n      <td>57.0</td>\n      <td>1.0</td>\n    </tr>\n    <tr>\n      <th>21</th>\n      <td>J.P. Morgan Chase</td>\n      <td>243355</td>\n      <td>24733.0</td>\n      <td>2490972</td>\n      <td>20.0</td>\n      <td>2.0</td>\n    </tr>\n    <tr>\n      <th>25</th>\n      <td>Wells Fargo</td>\n      <td>269100</td>\n      <td>21938.0</td>\n      <td>1930115</td>\n      <td>15.0</td>\n      <td>4.0</td>\n    </tr>\n    <tr>\n      <th>26</th>\n      <td>Bank of America Corp.</td>\n      <td>208024</td>\n      <td>17906.0</td>\n      <td>2187702</td>\n      <td>29.0</td>\n      <td>6.0</td>\n    </tr>\n    <tr>\n      <th>27</th>\n      <td>Alphabet</td>\n      <td>72053</td>\n      <td>19478.0</td>\n      <td>167497</td>\n      <td>96.0</td>\n      <td>5.0</td>\n    </tr>\n    <tr>\n      <th>28</th>\n      <td>Microsoft</td>\n      <td>114000</td>\n      <td>16798.0</td>\n      <td>193694</td>\n      <td>58.5</td>\n      <td>7.0</td>\n    </tr>\n    <tr>\n      <th>30</th>\n      <td>Citigroup</td>\n      <td>219000</td>\n      <td>14912.0</td>\n      <td>1792077</td>\n      <td>26.0</td>\n      <td>9.0</td>\n    </tr>\n    <tr>\n      <th>35</th>\n      <td>Johnson &amp; Johnson</td>\n      <td>126400</td>\n      <td>16540.0</td>\n      <td>141208</td>\n      <td>51.0</td>\n      <td>8.0</td>\n    </tr>\n    <tr>\n      <th>148</th>\n      <td>Altria Group</td>\n      <td>8300</td>\n      <td>14239.0</td>\n      <td>45932</td>\n      <td>424.0</td>\n      <td>10.0</td>\n    </tr>\n  </tbody>\n</table>\n</div>",
      "text/plain": "                      Title  Employees  Profits   Assets  RankByEmployee  \\\nRank                                                                       \n2        Berkshire Hathaway     367700  24074.0   620854             7.0   \n3                     Apple     116000  45687.0   321686            57.0   \n21        J.P. Morgan Chase     243355  24733.0  2490972            20.0   \n25              Wells Fargo     269100  21938.0  1930115            15.0   \n26    Bank of America Corp.     208024  17906.0  2187702            29.0   \n27                 Alphabet      72053  19478.0   167497            96.0   \n28                Microsoft     114000  16798.0   193694            58.5   \n30                Citigroup     219000  14912.0  1792077            26.0   \n35        Johnson & Johnson     126400  16540.0   141208            51.0   \n148            Altria Group       8300  14239.0    45932           424.0   \n\n      RankByProfits  \nRank                 \n2               3.0  \n3               1.0  \n21              2.0  \n25              4.0  \n26              6.0  \n27              5.0  \n28              7.0  \n30              9.0  \n35              8.0  \n148            10.0  "
     },
     "execution_count": 10,
     "metadata": {},
     "output_type": "execute_result"
    }
   ],
   "source": [
    "(fortune[isProfitRankFirst10]).head(15)"
   ]
  },
  {
   "cell_type": "code",
   "execution_count": 15,
   "metadata": {},
   "outputs": [
    {
     "data": {
      "text/html": "<div>\n<style scoped>\n    .dataframe tbody tr th:only-of-type {\n        vertical-align: middle;\n    }\n\n    .dataframe tbody tr th {\n        vertical-align: top;\n    }\n\n    .dataframe thead th {\n        text-align: right;\n    }\n</style>\n<table border=\"1\" class=\"dataframe\">\n  <thead>\n    <tr style=\"text-align: right;\">\n      <th></th>\n      <th>Title</th>\n      <th>Employees</th>\n      <th>Profits</th>\n      <th>Assets</th>\n      <th>RankByEmployee</th>\n      <th>RankByProfits</th>\n    </tr>\n    <tr>\n      <th>Rank</th>\n      <th></th>\n      <th></th>\n      <th></th>\n      <th></th>\n      <th></th>\n      <th></th>\n    </tr>\n  </thead>\n  <tbody>\n    <tr>\n      <th>2</th>\n      <td>Berkshire Hathaway</td>\n      <td>367700</td>\n      <td>24074.0</td>\n      <td>620854</td>\n      <td>7.0</td>\n      <td>3.0</td>\n    </tr>\n  </tbody>\n</table>\n</div>",
      "text/plain": "                   Title  Employees  Profits  Assets  RankByEmployee  \\\nRank                                                                   \n2     Berkshire Hathaway     367700  24074.0  620854             7.0   \n\n      RankByProfits  \nRank                 \n2               3.0  "
     },
     "execution_count": 15,
     "metadata": {},
     "output_type": "execute_result"
    }
   ],
   "source": [
    "(fortune[isProfitRankFirst10 & isEmployeesRankFirst10]).head()"
   ]
  },
  {
   "cell_type": "code",
   "execution_count": 12,
   "metadata": {},
   "outputs": [],
   "source": [
    "isEmployeesRankMore400 = fortune['RankByEmployee'] >= 400"
   ]
  },
  {
   "cell_type": "code",
   "execution_count": 14,
   "metadata": {},
   "outputs": [
    {
     "data": {
      "text/html": "<div>\n<style scoped>\n    .dataframe tbody tr th:only-of-type {\n        vertical-align: middle;\n    }\n\n    .dataframe tbody tr th {\n        vertical-align: top;\n    }\n\n    .dataframe thead th {\n        text-align: right;\n    }\n</style>\n<table border=\"1\" class=\"dataframe\">\n  <thead>\n    <tr style=\"text-align: right;\">\n      <th></th>\n      <th>Title</th>\n      <th>Employees</th>\n      <th>Profits</th>\n      <th>Assets</th>\n      <th>RankByEmployee</th>\n      <th>RankByProfits</th>\n    </tr>\n    <tr>\n      <th>Rank</th>\n      <th></th>\n      <th></th>\n      <th></th>\n      <th></th>\n      <th></th>\n      <th></th>\n    </tr>\n  </thead>\n  <tbody>\n    <tr>\n      <th>148</th>\n      <td>Altria Group</td>\n      <td>8300</td>\n      <td>14239.0</td>\n      <td>45932</td>\n      <td>424.0</td>\n      <td>10.0</td>\n    </tr>\n  </tbody>\n</table>\n</div>",
      "text/plain": "             Title  Employees  Profits  Assets  RankByEmployee  RankByProfits\nRank                                                                         \n148   Altria Group       8300  14239.0   45932           424.0           10.0"
     },
     "execution_count": 14,
     "metadata": {},
     "output_type": "execute_result"
    }
   ],
   "source": [
    "(fortune[isProfitRankFirst10 & isEmployeesRankMore400]).head()"
   ]
  }
 ],
 "metadata": {
  "kernelspec": {
   "display_name": "Python 3.8.8 64-bit ('base': conda)",
   "name": "python388jvsc74a57bd03ba49629e642786a2de516d48c7b5ebe6c63851376e27734b8be061cc796786d"
  },
  "language_info": {
   "codemirror_mode": {
    "name": "ipython",
    "version": 3
   },
   "file_extension": ".py",
   "mimetype": "text/x-python",
   "name": "python",
   "nbconvert_exporter": "python",
   "pygments_lexer": "ipython3",
   "version": "3.8.8"
  },
  "orig_nbformat": 2
 },
 "nbformat": 4,
 "nbformat_minor": 2
}