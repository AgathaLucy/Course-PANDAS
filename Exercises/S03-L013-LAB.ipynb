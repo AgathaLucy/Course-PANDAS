{
 "cells": [
  {
   "cell_type": "code",
   "execution_count": 1,
   "metadata": {},
   "outputs": [
    {
     "data": {
      "text/html": "<div>\n<style scoped>\n    .dataframe tbody tr th:only-of-type {\n        vertical-align: middle;\n    }\n\n    .dataframe tbody tr th {\n        vertical-align: top;\n    }\n\n    .dataframe thead th {\n        text-align: right;\n    }\n</style>\n<table border=\"1\" class=\"dataframe\">\n  <thead>\n    <tr style=\"text-align: right;\">\n      <th></th>\n      <th>Country</th>\n      <th>OperatingSystem</th>\n      <th>Gender</th>\n    </tr>\n  </thead>\n  <tbody>\n    <tr>\n      <th>0</th>\n      <td>Kenya</td>\n      <td>Linux-based</td>\n      <td>Male</td>\n    </tr>\n    <tr>\n      <th>1</th>\n      <td>United Kingdom</td>\n      <td>Linux-based</td>\n      <td>Male</td>\n    </tr>\n    <tr>\n      <th>2</th>\n      <td>United States</td>\n      <td>NaN</td>\n      <td>NaN</td>\n    </tr>\n    <tr>\n      <th>3</th>\n      <td>United States</td>\n      <td>Windows</td>\n      <td>Male</td>\n    </tr>\n    <tr>\n      <th>4</th>\n      <td>South Africa</td>\n      <td>Windows</td>\n      <td>Male</td>\n    </tr>\n  </tbody>\n</table>\n</div>",
      "text/plain": "          Country OperatingSystem Gender\n0           Kenya     Linux-based   Male\n1  United Kingdom     Linux-based   Male\n2   United States             NaN    NaN\n3   United States         Windows   Male\n4    South Africa         Windows   Male"
     },
     "execution_count": 1,
     "metadata": {},
     "output_type": "execute_result"
    }
   ],
   "source": [
    "import pandas as pd\r\n",
    "import numpy as np\r\n",
    "surveys = pd.read_csv(\"../CourseFile/StackOverflowDeveloperSurvey2018.csv\", low_memory=False, usecols=['Country','Gender','OperatingSystem'])\r\n",
    "surveys.head()"
   ]
  },
  {
   "cell_type": "code",
   "execution_count": 2,
   "metadata": {},
   "outputs": [
    {
     "data": {
      "text/plain": "False"
     },
     "execution_count": 2,
     "metadata": {},
     "output_type": "execute_result"
    }
   ],
   "source": [
    "surveys['Country'].is_unique"
   ]
  },
  {
   "cell_type": "code",
   "execution_count": 4,
   "metadata": {},
   "outputs": [
    {
     "data": {
      "text/plain": "array(['Kenya', 'United Kingdom', 'United States', 'South Africa',\n       'Nigeria'], dtype=object)"
     },
     "execution_count": 4,
     "metadata": {},
     "output_type": "execute_result"
    }
   ],
   "source": [
    "surveys['Country'].unique()[:5]"
   ]
  },
  {
   "cell_type": "code",
   "execution_count": 5,
   "metadata": {},
   "outputs": [
    {
     "data": {
      "text/plain": "183"
     },
     "execution_count": 5,
     "metadata": {},
     "output_type": "execute_result"
    }
   ],
   "source": [
    "surveys['Country'].nunique()"
   ]
  },
  {
   "cell_type": "code",
   "execution_count": 6,
   "metadata": {},
   "outputs": [
    {
     "data": {
      "text/plain": "184"
     },
     "execution_count": 6,
     "metadata": {},
     "output_type": "execute_result"
    }
   ],
   "source": [
    "len(surveys['Country'].unique())"
   ]
  },
  {
   "cell_type": "code",
   "execution_count": 8,
   "metadata": {},
   "outputs": [
    {
     "data": {
      "text/html": "<div>\n<style scoped>\n    .dataframe tbody tr th:only-of-type {\n        vertical-align: middle;\n    }\n\n    .dataframe tbody tr th {\n        vertical-align: top;\n    }\n\n    .dataframe thead th {\n        text-align: right;\n    }\n</style>\n<table border=\"1\" class=\"dataframe\">\n  <thead>\n    <tr style=\"text-align: right;\">\n      <th></th>\n      <th>Country</th>\n      <th>OperatingSystem</th>\n      <th>Gender</th>\n    </tr>\n  </thead>\n  <tbody>\n    <tr>\n      <th>0</th>\n      <td>Kenya</td>\n      <td>Linux-based</td>\n      <td>Male</td>\n    </tr>\n    <tr>\n      <th>1</th>\n      <td>United Kingdom</td>\n      <td>Linux-based</td>\n      <td>Male</td>\n    </tr>\n    <tr>\n      <th>2</th>\n      <td>United States</td>\n      <td>NaN</td>\n      <td>NaN</td>\n    </tr>\n    <tr>\n      <th>4</th>\n      <td>South Africa</td>\n      <td>Windows</td>\n      <td>Male</td>\n    </tr>\n    <tr>\n      <th>7</th>\n      <td>Nigeria</td>\n      <td>Windows</td>\n      <td>Female</td>\n    </tr>\n    <tr>\n      <th>...</th>\n      <td>...</td>\n      <td>...</td>\n      <td>...</td>\n    </tr>\n    <tr>\n      <th>86051</th>\n      <td>Eritrea</td>\n      <td>Linux-based</td>\n      <td>Male</td>\n    </tr>\n    <tr>\n      <th>89738</th>\n      <td>Democratic People's Republic of Korea</td>\n      <td>NaN</td>\n      <td>NaN</td>\n    </tr>\n    <tr>\n      <th>92028</th>\n      <td>Djibouti</td>\n      <td>NaN</td>\n      <td>NaN</td>\n    </tr>\n    <tr>\n      <th>93487</th>\n      <td>NaN</td>\n      <td>NaN</td>\n      <td>NaN</td>\n    </tr>\n    <tr>\n      <th>96975</th>\n      <td>Guinea-Bissau</td>\n      <td>NaN</td>\n      <td>NaN</td>\n    </tr>\n  </tbody>\n</table>\n<p>184 rows × 3 columns</p>\n</div>",
      "text/plain": "                                     Country OperatingSystem  Gender\n0                                      Kenya     Linux-based    Male\n1                             United Kingdom     Linux-based    Male\n2                              United States             NaN     NaN\n4                               South Africa         Windows    Male\n7                                    Nigeria         Windows  Female\n...                                      ...             ...     ...\n86051                                Eritrea     Linux-based    Male\n89738  Democratic People's Republic of Korea             NaN     NaN\n92028                               Djibouti             NaN     NaN\n93487                                    NaN             NaN     NaN\n96975                          Guinea-Bissau             NaN     NaN\n\n[184 rows x 3 columns]"
     },
     "execution_count": 8,
     "metadata": {},
     "output_type": "execute_result"
    }
   ],
   "source": [
    "duplicatesKeepFirst = surveys['Country'].duplicated()\r\n",
    "surveys[~duplicatesKeepFirst]"
   ]
  },
  {
   "cell_type": "code",
   "execution_count": 9,
   "metadata": {},
   "outputs": [
    {
     "data": {
      "text/plain": "184"
     },
     "execution_count": 9,
     "metadata": {},
     "output_type": "execute_result"
    }
   ],
   "source": [
    "len(surveys[~duplicatesKeepFirst])"
   ]
  },
  {
   "cell_type": "code",
   "execution_count": 11,
   "metadata": {},
   "outputs": [],
   "source": [
    "surveys.drop_duplicates(['Country', 'OperatingSystem'],inplace=True)"
   ]
  },
  {
   "cell_type": "code",
   "execution_count": 12,
   "metadata": {},
   "outputs": [
    {
     "data": {
      "text/html": "<div>\n<style scoped>\n    .dataframe tbody tr th:only-of-type {\n        vertical-align: middle;\n    }\n\n    .dataframe tbody tr th {\n        vertical-align: top;\n    }\n\n    .dataframe thead th {\n        text-align: right;\n    }\n</style>\n<table border=\"1\" class=\"dataframe\">\n  <thead>\n    <tr style=\"text-align: right;\">\n      <th></th>\n      <th>Country</th>\n      <th>OperatingSystem</th>\n      <th>Gender</th>\n    </tr>\n  </thead>\n  <tbody>\n    <tr>\n      <th>30</th>\n      <td>Poland</td>\n      <td>Linux-based</td>\n      <td>Male</td>\n    </tr>\n    <tr>\n      <th>34</th>\n      <td>Poland</td>\n      <td>Windows</td>\n      <td>Male</td>\n    </tr>\n    <tr>\n      <th>232</th>\n      <td>Poland</td>\n      <td>NaN</td>\n      <td>NaN</td>\n    </tr>\n    <tr>\n      <th>854</th>\n      <td>Poland</td>\n      <td>MacOS</td>\n      <td>Male</td>\n    </tr>\n    <tr>\n      <th>72587</th>\n      <td>Poland</td>\n      <td>BSD/Unix</td>\n      <td>NaN</td>\n    </tr>\n  </tbody>\n</table>\n</div>",
      "text/plain": "      Country OperatingSystem Gender\n30     Poland     Linux-based   Male\n34     Poland         Windows   Male\n232    Poland             NaN    NaN\n854    Poland           MacOS   Male\n72587  Poland        BSD/Unix    NaN"
     },
     "execution_count": 12,
     "metadata": {},
     "output_type": "execute_result"
    }
   ],
   "source": [
    "surveys.query(\"Country == 'Poland'\")"
   ]
  }
 ],
 "metadata": {
  "kernelspec": {
   "display_name": "Python 3.8.8 64-bit ('base': conda)",
   "name": "python388jvsc74a57bd03ba49629e642786a2de516d48c7b5ebe6c63851376e27734b8be061cc796786d"
  },
  "language_info": {
   "name": "python",
   "version": ""
  },
  "orig_nbformat": 2
 },
 "nbformat": 4,
 "nbformat_minor": 2
}