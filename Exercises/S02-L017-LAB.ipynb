{
 "cells": [
  {
   "cell_type": "code",
   "execution_count": 1,
   "metadata": {},
   "outputs": [],
   "source": [
    "import pandas as pd"
   ]
  },
  {
   "cell_type": "code",
   "execution_count": 7,
   "metadata": {},
   "outputs": [
    {
     "data": {
      "text/plain": "2     113750.0\n14    100000.0\n17    130000.0\n18     82500.0\n22    100764.0\nName: Salary, dtype: float64"
     },
     "execution_count": 7,
     "metadata": {},
     "output_type": "execute_result"
    }
   ],
   "source": [
    "surveys = pd.read_csv(\"../CourseFile/StackOverflowDeveloperSurvey.csv\", usecols=['Salary'], squeeze=True)\r\n",
    "surveys.dropna(inplace=True)\r\n",
    "surveys.head()"
   ]
  },
  {
   "cell_type": "code",
   "execution_count": 8,
   "metadata": {},
   "outputs": [
    {
     "data": {
      "text/plain": "12891"
     },
     "execution_count": 8,
     "metadata": {},
     "output_type": "execute_result"
    }
   ],
   "source": [
    "surveys.count()"
   ]
  },
  {
   "cell_type": "code",
   "execution_count": 11,
   "metadata": {},
   "outputs": [
    {
     "data": {
      "text/plain": "2     3412.50\n14    3000.00\n17    3900.00\n18    2475.00\n22    3022.92\nName: Salary, dtype: float64"
     },
     "execution_count": 11,
     "metadata": {},
     "output_type": "execute_result"
    }
   ],
   "source": [
    "surveysIncrease = surveys * 0.03\r\n",
    "surveysIncrease.head()"
   ]
  },
  {
   "cell_type": "code",
   "execution_count": 13,
   "metadata": {},
   "outputs": [
    {
     "data": {
      "text/plain": "2     117162.50\n14    103000.00\n17    133900.00\n18     84975.00\n22    103786.92\nName: Salary, dtype: float64"
     },
     "execution_count": 13,
     "metadata": {},
     "output_type": "execute_result"
    }
   ],
   "source": [
    "surveysAfterIncrease = surveys + surveysIncrease\r\n",
    "surveysAfterIncrease.head()"
   ]
  },
  {
   "cell_type": "code",
   "execution_count": 24,
   "metadata": {},
   "outputs": [
    {
     "data": {
      "text/plain": "0             1 - 2 hours\n1         30 - 59 minutes\n3    Less than 30 minutes\n4             1 - 2 hours\n5         30 - 59 minutes\nName: HoursOutside, dtype: object"
     },
     "execution_count": 24,
     "metadata": {},
     "output_type": "execute_result"
    }
   ],
   "source": [
    "surveysTime = pd.read_csv(\"../CourseFile/StackOverflowDeveloperSurvey2018.csv\", low_memory=False, usecols=['HoursOutside'], squeeze=True)\r\n",
    "surveysTime.dropna(inplace=True)\r\n",
    "surveysTime.head()"
   ]
  },
  {
   "cell_type": "code",
   "execution_count": 20,
   "metadata": {},
   "outputs": [
    {
     "data": {
      "text/plain": "1 - 2 hours             27788\n30 - 59 minutes         24002\nLess than 30 minutes    11223\n3 - 4 hours              7186\nOver 4 hours             1825\nName: HoursOutside, dtype: int64"
     },
     "execution_count": 20,
     "metadata": {},
     "output_type": "execute_result"
    }
   ],
   "source": [
    "surveysTime.value_counts()"
   ]
  },
  {
   "cell_type": "code",
   "execution_count": 25,
   "metadata": {},
   "outputs": [
    {
     "data": {
      "text/plain": "0             1 - 2 hours\n1         30 - 59 minutes\n3    less than 30 minutes\n4             1 - 2 hours\n5         30 - 59 minutes\nName: HoursOutside, dtype: object"
     },
     "execution_count": 25,
     "metadata": {},
     "output_type": "execute_result"
    }
   ],
   "source": [
    "surveysTime = surveysTime.str.lower()\r\n",
    "surveysTime.head()"
   ]
  },
  {
   "cell_type": "code",
   "execution_count": 27,
   "metadata": {},
   "outputs": [
    {
     "data": {
      "text/plain": "0             1 - 2 HOURS\n1         30 - 59 MINUTES\n3    LESS THAN 30 MINUTES\n4             1 - 2 HOURS\n5         30 - 59 MINUTES\nName: HoursOutside, dtype: object"
     },
     "execution_count": 27,
     "metadata": {},
     "output_type": "execute_result"
    }
   ],
   "source": [
    "surveysTime = surveysTime.str.upper()\r\n",
    "surveysTime.head()"
   ]
  },
  {
   "cell_type": "code",
   "execution_count": 30,
   "metadata": {},
   "outputs": [],
   "source": [
    "def ChangeDescription (napis):\r\n",
    "    if napis ==  'LESS THAN 30 MINUTES':\r\n",
    "        return 'LESS THAN HALF HOUR'\r\n",
    "    else:\r\n",
    "        return napis"
   ]
  },
  {
   "cell_type": "code",
   "execution_count": 31,
   "metadata": {},
   "outputs": [
    {
     "data": {
      "text/plain": "'30 - 59 MINUTES'"
     },
     "execution_count": 31,
     "metadata": {},
     "output_type": "execute_result"
    }
   ],
   "source": [
    "ChangeDescription('30 - 59 MINUTES')"
   ]
  },
  {
   "cell_type": "code",
   "execution_count": 32,
   "metadata": {},
   "outputs": [
    {
     "data": {
      "text/plain": "'LESS THAN HALF HOUR'"
     },
     "execution_count": 32,
     "metadata": {},
     "output_type": "execute_result"
    }
   ],
   "source": [
    "ChangeDescription('LESS THAN 30 MINUTES')"
   ]
  },
  {
   "cell_type": "code",
   "execution_count": 34,
   "metadata": {},
   "outputs": [
    {
     "data": {
      "text/plain": "0            1 - 2 HOURS\n1        30 - 59 MINUTES\n3    LESS THAN HALF HOUR\n4            1 - 2 HOURS\n5        30 - 59 MINUTES\nName: HoursOutside, dtype: object"
     },
     "execution_count": 34,
     "metadata": {},
     "output_type": "execute_result"
    }
   ],
   "source": [
    "surveysTime.apply(ChangeDescription).head()"
   ]
  },
  {
   "cell_type": "code",
   "execution_count": null,
   "metadata": {},
   "outputs": [],
   "source": []
  }
 ],
 "metadata": {
  "kernelspec": {
   "display_name": "Python 3.8.8 64-bit ('base': conda)",
   "name": "python388jvsc74a57bd03ba49629e642786a2de516d48c7b5ebe6c63851376e27734b8be061cc796786d"
  },
  "language_info": {
   "codemirror_mode": {
    "name": "ipython",
    "version": 3
   },
   "file_extension": ".py",
   "mimetype": "text/x-python",
   "name": "python",
   "nbconvert_exporter": "python",
   "pygments_lexer": "ipython3",
   "version": "3.8.8"
  },
  "orig_nbformat": 2
 },
 "nbformat": 4,
 "nbformat_minor": 2
}